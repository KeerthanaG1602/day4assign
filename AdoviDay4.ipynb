{
  "nbformat": 4,
  "nbformat_minor": 0,
  "metadata": {
    "colab": {
      "provenance": []
    },
    "kernelspec": {
      "name": "python3",
      "display_name": "Python 3"
    },
    "language_info": {
      "name": "python"
    }
  },
  "cells": [
    {
      "cell_type": "code",
      "execution_count": 1,
      "metadata": {
        "id": "bgN36_nY57dN"
      },
      "outputs": [],
      "source": [
        "import numpy as np"
      ]
    },
    {
      "cell_type": "markdown",
      "source": [
        "Creating array of 10 zeros"
      ],
      "metadata": {
        "id": "oS-yzyAM6M2A"
      }
    },
    {
      "cell_type": "code",
      "source": [
        "zero=np.zeros(10)\n",
        "print(zero)"
      ],
      "metadata": {
        "colab": {
          "base_uri": "https://localhost:8080/"
        },
        "id": "O6s5kcKX6QwT",
        "outputId": "ae7b6fa3-2e80-46cc-97af-a09a43fc4e00"
      },
      "execution_count": 2,
      "outputs": [
        {
          "output_type": "stream",
          "name": "stdout",
          "text": [
            "[0. 0. 0. 0. 0. 0. 0. 0. 0. 0.]\n"
          ]
        }
      ]
    },
    {
      "cell_type": "markdown",
      "source": [
        "Creating array of 10 ones"
      ],
      "metadata": {
        "id": "Q_9JhPwl7je-"
      }
    },
    {
      "cell_type": "code",
      "source": [
        "ones=np.ones(10)\n",
        "print(ones)"
      ],
      "metadata": {
        "colab": {
          "base_uri": "https://localhost:8080/"
        },
        "id": "P7b89Df47oto",
        "outputId": "93898b6b-34ed-4384-9e79-5faaede96c8c"
      },
      "execution_count": 3,
      "outputs": [
        {
          "output_type": "stream",
          "name": "stdout",
          "text": [
            "[1. 1. 1. 1. 1. 1. 1. 1. 1. 1.]\n"
          ]
        }
      ]
    },
    {
      "cell_type": "markdown",
      "source": [
        "Creating array of 10 fives"
      ],
      "metadata": {
        "id": "8VRlJRpj70n9"
      }
    },
    {
      "cell_type": "code",
      "source": [
        "fives=np.ones(10)*5\n",
        "print(fives)"
      ],
      "metadata": {
        "colab": {
          "base_uri": "https://localhost:8080/"
        },
        "id": "zfAi7Lrd76Wl",
        "outputId": "9ecd0e4b-06ee-4456-eba1-b7f18a7a7112"
      },
      "execution_count": 7,
      "outputs": [
        {
          "output_type": "stream",
          "name": "stdout",
          "text": [
            "[5. 5. 5. 5. 5. 5. 5. 5. 5. 5.]\n"
          ]
        }
      ]
    },
    {
      "cell_type": "markdown",
      "source": [
        "Creating array of integers from 10 to 50"
      ],
      "metadata": {
        "id": "ezVVbSSj9qIh"
      }
    },
    {
      "cell_type": "code",
      "source": [
        "arr=np.arange(10,51)\n",
        "print(arr)"
      ],
      "metadata": {
        "colab": {
          "base_uri": "https://localhost:8080/"
        },
        "id": "tRlbv4lZ96nP",
        "outputId": "71443ed6-37e6-49a9-ebfe-19b2979069d8"
      },
      "execution_count": 11,
      "outputs": [
        {
          "output_type": "stream",
          "name": "stdout",
          "text": [
            "[10 11 12 13 14 15 16 17 18 19 20 21 22 23 24 25 26 27 28 29 30 31 32 33\n",
            " 34 35 36 37 38 39 40 41 42 43 44 45 46 47 48 49 50]\n"
          ]
        }
      ]
    },
    {
      "cell_type": "markdown",
      "source": [
        "Creating array of even integers from 10 to 50"
      ],
      "metadata": {
        "id": "3Z7wxZfLAkfE"
      }
    },
    {
      "cell_type": "code",
      "source": [
        "array=np.arange(10,51,2)\n",
        "print(array)"
      ],
      "metadata": {
        "colab": {
          "base_uri": "https://localhost:8080/"
        },
        "id": "tiztj9rl7vYo",
        "outputId": "d65b4322-fb89-47ea-d0e1-1bb0f9bd1335"
      },
      "execution_count": 12,
      "outputs": [
        {
          "output_type": "stream",
          "name": "stdout",
          "text": [
            "[10 12 14 16 18 20 22 24 26 28 30 32 34 36 38 40 42 44 46 48 50]\n"
          ]
        }
      ]
    },
    {
      "cell_type": "markdown",
      "source": [
        "Creating 3X3 matrix ranging from 0 to 8"
      ],
      "metadata": {
        "id": "Bi1wg_PRAtlA"
      }
    },
    {
      "cell_type": "code",
      "source": [
        "mat=np.arange(0,9).reshape(3, 3)\n",
        "print(mat)"
      ],
      "metadata": {
        "colab": {
          "base_uri": "https://localhost:8080/"
        },
        "id": "DjXS9FqSA5t_",
        "outputId": "0b2c8fdd-584f-4f6e-fc0f-ec23057fe2f4"
      },
      "execution_count": 15,
      "outputs": [
        {
          "output_type": "stream",
          "name": "stdout",
          "text": [
            "[[0 1 2]\n",
            " [3 4 5]\n",
            " [6 7 8]]\n"
          ]
        }
      ]
    },
    {
      "cell_type": "markdown",
      "source": [
        "Creating the 3X3 identity matrix"
      ],
      "metadata": {
        "id": "a7-sRZivBhu1"
      }
    },
    {
      "cell_type": "code",
      "source": [
        "a=np.eye(3)\n",
        "print(a)"
      ],
      "metadata": {
        "colab": {
          "base_uri": "https://localhost:8080/"
        },
        "id": "avKDYGuLBpHF",
        "outputId": "6da8898e-7524-4808-e4bb-b685744a504d"
      },
      "execution_count": 16,
      "outputs": [
        {
          "output_type": "stream",
          "name": "stdout",
          "text": [
            "[[1. 0. 0.]\n",
            " [0. 1. 0.]\n",
            " [0. 0. 1.]]\n"
          ]
        }
      ]
    },
    {
      "cell_type": "markdown",
      "source": [
        "Use numpy to generate random number between 0 and 1"
      ],
      "metadata": {
        "id": "F9A_S3Q_CBjw"
      }
    },
    {
      "cell_type": "code",
      "source": [
        "from numpy import random"
      ],
      "metadata": {
        "id": "oQcu-F6RCXYN"
      },
      "execution_count": 17,
      "outputs": []
    },
    {
      "cell_type": "code",
      "source": [
        "x=random.rand(1)\n",
        "print(x)"
      ],
      "metadata": {
        "colab": {
          "base_uri": "https://localhost:8080/"
        },
        "id": "Y86J16G26J5L",
        "outputId": "87a691f1-61a3-4786-f504-45ebad681ce1"
      },
      "execution_count": 20,
      "outputs": [
        {
          "output_type": "stream",
          "name": "stdout",
          "text": [
            "[0.10527831]\n"
          ]
        }
      ]
    },
    {
      "cell_type": "markdown",
      "source": [
        "Use numpy to generate an array of 25 random numbers sampled from a standard normal distribution"
      ],
      "metadata": {
        "id": "s1in9M5gCx7O"
      }
    },
    {
      "cell_type": "code",
      "source": [
        "b=np.random.normal(0,1,25)\n",
        "print(b)"
      ],
      "metadata": {
        "colab": {
          "base_uri": "https://localhost:8080/"
        },
        "id": "a3QsRk96DA3l",
        "outputId": "9b5fcf3d-2aa7-4218-ad52-b4c436fba1bc"
      },
      "execution_count": 21,
      "outputs": [
        {
          "output_type": "stream",
          "name": "stdout",
          "text": [
            "[-3.23159501e-01 -5.56071343e-01  4.68545057e-01 -1.52445307e+00\n",
            " -9.16103605e-01 -2.44940909e+00  6.65216031e-01 -2.43009460e-01\n",
            " -7.89837231e-01  2.22956326e+00  1.22619192e+00 -2.07927650e-01\n",
            "  2.23054668e-01 -5.74712622e-01 -7.86741232e-05  2.16986933e+00\n",
            " -7.24450735e-01 -3.34205698e-01 -1.50851791e+00 -3.52459904e-01\n",
            "  2.77037351e-01  1.73897766e+00 -5.04322801e-01 -8.08259532e-01\n",
            "  4.23682934e-02]\n"
          ]
        }
      ]
    },
    {
      "cell_type": "markdown",
      "source": [
        "Printing the following"
      ],
      "metadata": {
        "id": "4pxaa1vPEae3"
      }
    },
    {
      "cell_type": "code",
      "source": [
        "c=np.arange(0,1.01,0.01)\n",
        "print(c)"
      ],
      "metadata": {
        "colab": {
          "base_uri": "https://localhost:8080/"
        },
        "id": "sDY4Eh_zEeqY",
        "outputId": "d2569578-8ec2-4bd1-81f9-5273503f7dc6"
      },
      "execution_count": 25,
      "outputs": [
        {
          "output_type": "stream",
          "name": "stdout",
          "text": [
            "[0.   0.01 0.02 0.03 0.04 0.05 0.06 0.07 0.08 0.09 0.1  0.11 0.12 0.13\n",
            " 0.14 0.15 0.16 0.17 0.18 0.19 0.2  0.21 0.22 0.23 0.24 0.25 0.26 0.27\n",
            " 0.28 0.29 0.3  0.31 0.32 0.33 0.34 0.35 0.36 0.37 0.38 0.39 0.4  0.41\n",
            " 0.42 0.43 0.44 0.45 0.46 0.47 0.48 0.49 0.5  0.51 0.52 0.53 0.54 0.55\n",
            " 0.56 0.57 0.58 0.59 0.6  0.61 0.62 0.63 0.64 0.65 0.66 0.67 0.68 0.69\n",
            " 0.7  0.71 0.72 0.73 0.74 0.75 0.76 0.77 0.78 0.79 0.8  0.81 0.82 0.83\n",
            " 0.84 0.85 0.86 0.87 0.88 0.89 0.9  0.91 0.92 0.93 0.94 0.95 0.96 0.97\n",
            " 0.98 0.99 1.  ]\n"
          ]
        }
      ]
    },
    {
      "cell_type": "code",
      "source": [
        "matrix=np.arange(1,26).reshape(5,5)\n",
        "matrix"
      ],
      "metadata": {
        "colab": {
          "base_uri": "https://localhost:8080/"
        },
        "id": "bHDPpMYNEe41",
        "outputId": "9de7a4a3-b85a-4ee6-c724-23e9323dbcb9"
      },
      "execution_count": 26,
      "outputs": [
        {
          "output_type": "execute_result",
          "data": {
            "text/plain": [
              "array([[ 1,  2,  3,  4,  5],\n",
              "       [ 6,  7,  8,  9, 10],\n",
              "       [11, 12, 13, 14, 15],\n",
              "       [16, 17, 18, 19, 20],\n",
              "       [21, 22, 23, 24, 25]])"
            ]
          },
          "metadata": {},
          "execution_count": 26
        }
      ]
    },
    {
      "cell_type": "code",
      "source": [],
      "metadata": {
        "id": "dRT0YRSuCwdN"
      },
      "execution_count": null,
      "outputs": []
    }
  ]
}